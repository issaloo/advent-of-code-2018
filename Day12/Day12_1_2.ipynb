{
 "cells": [
  {
   "cell_type": "markdown",
   "metadata": {},
   "source": [
    "# Part 1"
   ]
  },
  {
   "cell_type": "code",
   "execution_count": 479,
   "metadata": {},
   "outputs": [],
   "source": [
    "#Read in Text File\n",
    "with open('Day12.txt','r') as f:\n",
    "    txt = [line for line in f.read().splitlines() if line != '']\n",
    "\n",
    "#Parse Initial State\n",
    "init_state = txt[0].split(' ')[2]\n",
    "\n",
    "#Parse Notes\n",
    "notes = [note.split('=>') for note in txt[1:]]\n",
    "\n",
    "#Generations\n",
    "gen = 20\n",
    "mult = 30\n",
    "per = '.'*mult\n",
    "\n",
    "#Set up pot number\n",
    "pot_number = [*range(-mult,len(init_state + per))]\n",
    "\n",
    "#Set up initial state\n",
    "cur_state = per + init_state + per\n",
    "\n",
    "#Set Up notes\n",
    "notes_dct = {note[0].strip():note[1].strip() for note in notes}\n",
    "\n",
    "import re\n",
    "\n",
    "for i in range(gen):\n",
    "    next_state = []\n",
    "    for pos in range(2,len(cur_state)-2):\n",
    "        next_state.append(notes_dct[cur_state[pos-2:pos+3]])\n",
    "    next_state = '..' + \"\".join(next_state) + '..'\n",
    "    cur_state = next_state"
   ]
  },
  {
   "cell_type": "code",
   "execution_count": 478,
   "metadata": {},
   "outputs": [
    {
     "data": {
      "text/plain": [
       "2736"
      ]
     },
     "execution_count": 478,
     "metadata": {},
     "output_type": "execute_result"
    }
   ],
   "source": [
    "sum([pot_number[pos] for pos,i in enumerate(cur_state) if (i =='#')])"
   ]
  },
  {
   "cell_type": "markdown",
   "metadata": {},
   "source": [
    "# Part 2"
   ]
  },
  {
   "cell_type": "code",
   "execution_count": 570,
   "metadata": {},
   "outputs": [],
   "source": [
    "#Now do this 50000000000 generations\n",
    "#This will break if you run it so many times...\n",
    "#See if there is a pattern"
   ]
  },
  {
   "cell_type": "code",
   "execution_count": 601,
   "metadata": {},
   "outputs": [],
   "source": [
    "#Generations\n",
    "gen = 125\n",
    "mult = 1000\n",
    "per = '.'*mult\n",
    "\n",
    "#Set up pot number\n",
    "pot_number = [*range(-mult,len(init_state + per))]\n",
    "\n",
    "#Set up initial state\n",
    "cur_state = per + init_state + per\n",
    "\n",
    "#Set Up notes\n",
    "notes_dct = {note[0].strip():note[1].strip() for note in notes}\n",
    "\n",
    "#Record Sum List\n",
    "sum_list = []\n",
    "for i in range(gen):\n",
    "    next_state = []\n",
    "    for pos in range(2,len(cur_state)-2):\n",
    "        next_state.append(notes_dct[cur_state[pos-2:pos+3]])\n",
    "    next_state = '..' + \"\".join(next_state) + '..'\n",
    "    cur_state = next_state\n",
    "    sum_list.append(sum([pot_number[pos] for pos,i in enumerate(cur_state) if (i =='#')]))\n",
    "\n",
    "import numpy as np\n",
    "sum_arr = np.array(record)\n",
    "sum_diff = sum_arr[1:] - sum_arr[:-1]\n",
    "sum_diff = sum_diff.tolist()\n",
    "start = sum_diff.index(63)"
   ]
  },
  {
   "cell_type": "code",
   "execution_count": 602,
   "metadata": {},
   "outputs": [
    {
     "data": {
      "text/plain": [
       "3150000000905"
      ]
     },
     "execution_count": 602,
     "metadata": {},
     "output_type": "execute_result"
    }
   ],
   "source": [
    "#Repetitive 63 additions start at 124 (techinically 125)\n",
    "sum_arr[start] + (50000000000 - (start+1))*63"
   ]
  }
 ],
 "metadata": {
  "kernelspec": {
   "display_name": "Python 3",
   "language": "python",
   "name": "python3"
  },
  "language_info": {
   "codemirror_mode": {
    "name": "ipython",
    "version": 3
   },
   "file_extension": ".py",
   "mimetype": "text/x-python",
   "name": "python",
   "nbconvert_exporter": "python",
   "pygments_lexer": "ipython3",
   "version": "3.7.4"
  }
 },
 "nbformat": 4,
 "nbformat_minor": 2
}
