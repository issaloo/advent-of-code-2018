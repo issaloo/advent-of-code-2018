{
 "cells": [
  {
   "cell_type": "code",
   "execution_count": 2,
   "metadata": {},
   "outputs": [],
   "source": [
    "import numpy as np\n",
    "import re"
   ]
  },
  {
   "cell_type": "code",
   "execution_count": 41,
   "metadata": {},
   "outputs": [],
   "source": [
    "num_list = []\n",
    "with open('Day3.txt') as f:\n",
    "    for line in f.readlines():\n",
    "        num_list.append(list(map(int,re.findall('\\d+',line))))\n",
    "    num_array = np.array(num_list)"
   ]
  },
  {
   "cell_type": "code",
   "execution_count": 71,
   "metadata": {},
   "outputs": [
    {
     "data": {
      "text/plain": [
       "999"
      ]
     },
     "execution_count": 71,
     "metadata": {},
     "output_type": "execute_result"
    }
   ],
   "source": [
    "np.max(np.hstack((np.sum(num_array[:,[1,3]],axis=1),np.sum(num_array[:,[2,4]],axis=1))))"
   ]
  },
  {
   "cell_type": "code",
   "execution_count": 95,
   "metadata": {},
   "outputs": [
    {
     "data": {
      "text/plain": [
       "112418"
      ]
     },
     "execution_count": 95,
     "metadata": {},
     "output_type": "execute_result"
    }
   ],
   "source": [
    "fabric = np.zeros((1000,1000))\n",
    "for row in num_array:\n",
    "    fabric[row[2]+1:row[2]+row[4]+1,row[1]+1:row[1]+row[3]+1] += 1\n",
    "np.sum(np.sum(fabric>1,axis=0))"
   ]
  },
  {
   "cell_type": "code",
   "execution_count": 96,
   "metadata": {},
   "outputs": [],
   "source": [
    "#Part 2\n",
    "fabric = np.zeros((1000,1000))\n",
    "for row in num_array:\n",
    "    fabric[row[2]+1:row[2]+row[4]+1,row[1]+1:row[1]+row[3]+1] += row[0]"
   ]
  },
  {
   "cell_type": "code",
   "execution_count": 121,
   "metadata": {},
   "outputs": [
    {
     "name": "stdout",
     "output_type": "stream",
     "text": [
      "560\n"
     ]
    }
   ],
   "source": [
    "csize_array = num_array[:,3] * num_array[:,4]\n",
    "for i in range(len(num_array)):\n",
    "    non_overlap_cnt = np.sum(fabric == i+1)\n",
    "    if csize_array[i] == non_overlap_cnt:\n",
    "        break\n",
    "print(i+1)"
   ]
  }
 ],
 "metadata": {
  "kernelspec": {
   "display_name": "Python 3",
   "language": "python",
   "name": "python3"
  },
  "language_info": {
   "codemirror_mode": {
    "name": "ipython",
    "version": 3
   },
   "file_extension": ".py",
   "mimetype": "text/x-python",
   "name": "python",
   "nbconvert_exporter": "python",
   "pygments_lexer": "ipython3",
   "version": "3.7.4"
  }
 },
 "nbformat": 4,
 "nbformat_minor": 2
}
