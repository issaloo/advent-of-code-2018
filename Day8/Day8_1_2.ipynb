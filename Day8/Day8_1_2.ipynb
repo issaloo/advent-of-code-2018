{
 "cells": [
  {
   "cell_type": "code",
   "execution_count": 90,
   "metadata": {},
   "outputs": [],
   "source": [
    "from collections import deque"
   ]
  },
  {
   "cell_type": "code",
   "execution_count": 91,
   "metadata": {},
   "outputs": [],
   "source": [
    "#Read in List of Numbers. change for actual data\n",
    "with open('Day8.txt') as f:\n",
    "    lic_file = [int(i) for i in f.read().split()]"
   ]
  },
  {
   "cell_type": "code",
   "execution_count": 92,
   "metadata": {},
   "outputs": [
    {
     "name": "stdout",
     "output_type": "stream",
     "text": [
      "40908\n"
     ]
    }
   ],
   "source": [
    "lic_file_len = len(lic_file) #Length of license file\n",
    "\n",
    "meta_stack = deque() #Initiate stack to track metadata number\n",
    "nodeL_stack = deque() #Initiate stack to track nodes left number\n",
    "meta_list = [] #Record all meta data values\n",
    "pos = 0 #Position of marker\n",
    "nodeL_stack.append(lic_file[pos]) #Add nodes left to nodes left stack\n",
    "meta_stack.append(lic_file[pos+1]) #Add metadata number to metadata stack\n",
    "pos +=2\n",
    "\n",
    "while pos < lic_file_len: #Read through license file if nodes still left\n",
    "    if nodeL_stack[-1]: #If nodes left is non-zero\n",
    "        nodeL_stack.append(nodeL_stack.pop()-1) #Subtract 1 from nodes left number at top of stack\n",
    "        nodeL_stack.append(lic_file[pos]) #Add nodes left to nodes left stack\n",
    "        meta_stack.append(lic_file[pos+1]) #Add metadata number to metadata stack\n",
    "        pos +=2\n",
    "        if nodeL_stack[-1] == 0: #If nodes left is zero\n",
    "            nodeL_stack.pop() #Remove zero value from nodes left stack\n",
    "            meta_length = meta_stack.pop() #Pop metanumber from metadata stack\n",
    "            meta_list.extend(lic_file[pos:(pos+meta_length)]) #Record metadata number\n",
    "            pos += meta_length #Move position by meta_length\n",
    "    else:\n",
    "            nodeL_stack.pop() #Remove zero value from nodes left stack\n",
    "            meta_length = meta_stack.pop() #Pop metanumber from metadata stack\n",
    "            meta_list.extend(lic_file[pos:(pos+meta_length)]) #Record metadata number\n",
    "            pos += meta_length #Move position by meta_length\n",
    "print(sum(meta_list)) #Sum metadata list"
   ]
  },
  {
   "cell_type": "code",
   "execution_count": 139,
   "metadata": {},
   "outputs": [],
   "source": [
    "#Part 2\n",
    "import collections\n",
    "#Read in List of Numbers. change for actual data\n",
    "with open('Day8.txt') as f:\n",
    "    lic_file = [int(i) for i in f.read().split()]\n",
    "lic_file_len = len(lic_file)"
   ]
  },
  {
   "cell_type": "code",
   "execution_count": 140,
   "metadata": {},
   "outputs": [],
   "source": [
    "meta_dict = {} #Record meta entries of node\n",
    "tree_dict = {} #Record children nodes of node\n",
    "parent_stack = deque() #Initiate stack to track the parent node\n",
    "meta_stack = deque() #Initiate stack to track metadata number\n",
    "nodeL_stack = deque() #Initiate stack to track nodes left number\n",
    "pos, uuid = 0, 0 #Initialize Position of marker, Unique ID\n",
    "\n",
    "tree_dict[uuid] = []\n",
    "parent_stack.append(uuid)\n",
    "nodeL_stack.append([uuid,lic_file[pos]]) #Add nodes left to nodes left stack\n",
    "meta_stack.append(lic_file[pos+1]) #Add metadata number to metadata stack\n",
    "pos +=2"
   ]
  },
  {
   "cell_type": "code",
   "execution_count": 141,
   "metadata": {},
   "outputs": [],
   "source": [
    "while pos < lic_file_len: #Read through license file if nodes still left\n",
    "    if nodeL_stack[-1][1]: #If nodes left is non-zero\n",
    "        uuid += 1\n",
    "        curNode = nodeL_stack.pop()\n",
    "        nodeL_stack.append([curNode[0],curNode[1]-1]) #Subtract 1 from nodes left number at top of stack\n",
    "        nodeL_stack.append([uuid,lic_file[pos]]) #Add nodes left to nodes left stack\n",
    "        meta_stack.append(lic_file[pos+1]) #Add metadata number to metadata stack\n",
    "        tree_dict[parent_stack[-1]].append(uuid)\n",
    "        \n",
    "        parent_stack.append(uuid)\n",
    "        tree_dict[uuid] = []\n",
    "        pos +=2\n",
    "        if nodeL_stack[-1][1] == 0: #If nodes left is zero\n",
    "            parent_stack.pop()\n",
    "            curNode = nodeL_stack.pop() #Remove zero value from nodes left stack\n",
    "            meta_length = meta_stack.pop() #Pop metanumber from metadata stack\n",
    "            meta_dict[curNode[0]] = lic_file[pos:(pos+meta_length)] #Record metadata number\n",
    "            pos += meta_length #Move position by meta_length\n",
    "    else:\n",
    "            parent_stack.pop()\n",
    "            curNode = nodeL_stack.pop() #Remove zero value from nodes left stack\n",
    "            meta_length = meta_stack.pop() #Pop metanumber from metadata stack\n",
    "            meta_dict[curNode[0]] = lic_file[pos:(pos+meta_length)] #Record metadata number\n",
    "            pos += meta_length #Move position by meta_length"
   ]
  },
  {
   "cell_type": "code",
   "execution_count": 143,
   "metadata": {},
   "outputs": [
    {
     "name": "stdout",
     "output_type": "stream",
     "text": [
      "25910\n"
     ]
    }
   ],
   "source": [
    "tree_dict = collections.OrderedDict(sorted(tree_dict.items(),reverse=True))\n",
    "value_dict = {} #Record Value of each node\n",
    "\n",
    "for key in tree_dict:\n",
    "    if not tree_dict[key]:\n",
    "        value_dict[key] = sum(meta_dict[key])\n",
    "    else:\n",
    "        total = 0\n",
    "        for i in meta_dict[key]:\n",
    "            if i <= len(tree_dict[key]):\n",
    "                total += value_dict[tree_dict[key][i-1]]\n",
    "        value_dict[key] = total\n",
    "print(value_dict[0])"
   ]
  }
 ],
 "metadata": {
  "kernelspec": {
   "display_name": "Python 3",
   "language": "python",
   "name": "python3"
  },
  "language_info": {
   "codemirror_mode": {
    "name": "ipython",
    "version": 3
   },
   "file_extension": ".py",
   "mimetype": "text/x-python",
   "name": "python",
   "nbconvert_exporter": "python",
   "pygments_lexer": "ipython3",
   "version": "3.7.4"
  }
 },
 "nbformat": 4,
 "nbformat_minor": 2
}
