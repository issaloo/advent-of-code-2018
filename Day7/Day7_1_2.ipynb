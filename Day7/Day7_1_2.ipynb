{
 "cells": [
  {
   "cell_type": "code",
   "execution_count": 306,
   "metadata": {},
   "outputs": [
    {
     "data": {
      "text/plain": [
       "'BGJCNLQUYIFMOEZTADKSPVXRHW'"
      ]
     },
     "execution_count": 306,
     "metadata": {},
     "output_type": "execute_result"
    }
   ],
   "source": [
    "import re\n",
    "from collections import defaultdict\n",
    "one_set, adder_set = set(),set()\n",
    "prereq_dict = defaultdict(set)\n",
    "with open('Day7.txt') as f:\n",
    "    for line in f.readlines():\n",
    "        order = re.findall(r'(?<=[step]\\s)[A-Z]',line)\n",
    "        one_set.add(order[0])#E.g. B, all requirement set\n",
    "        prereq_dict[order[1]].add(order[0]) #E.g. G requires B to finish dictionary\n",
    "order_max = len(set([*prereq_dict.keys()]) | one_set) #Union set and getting max\n",
    "order_set = one_set-set([*prereq_dict.keys()]) #All requirements - All requirers, determine starting letter.\n",
    "order_list = list(order_set) #Turn starting letter into list\n",
    "while len(order_set) < order_max: #While letter list is less than the total letters\n",
    "    for letter in list(prereq_dict.keys() - order_set): #For prereq letters not in letter list\n",
    "        if prereq_dict[letter].issubset(order_set): #If req letter is a subset of the letter list\n",
    "            adder_set.add(letter) #Add the letter to the adder_set\n",
    "    top_letter = sorted(adder_set)[0] #Choose the top letter alphabetically sorted\n",
    "    adder_set.remove(top_letter) #Remove the top letter from the adder_set\n",
    "    order_set.add(top_letter) #Add top letter to order_set\n",
    "    order_list.append(top_letter) #append top letter to order_list for tracking\n",
    "\"\".join(order_list)"
   ]
  },
  {
   "cell_type": "code",
   "execution_count": 307,
   "metadata": {},
   "outputs": [
    {
     "name": "stdout",
     "output_type": "stream",
     "text": [
      "1017\n"
     ]
    }
   ],
   "source": [
    "#Part 2\n",
    "import string\n",
    "import numpy as np\n",
    "\n",
    "#Variable Assignment\n",
    "letter_time = dict(zip(list(string.ascii_uppercase),list(range(61,87)))) \n",
    "worker_letter_counter = np.zeros((5,4),dtype=int) \n",
    "worker_letter_counter[:,0] = range(1,6) #Column: Worker Num, Ord(Letter), Process Time, Counter\n",
    "time = 0\n",
    "in_prog_set, done_set = set(), set() #letters in progress set, letters in done set\n",
    "# in_prog_list = list(in_prog_set) #letters in progress list\n",
    "ready_set = one_set-set([*prereq_dict.keys()]) #letters in ready set\n",
    "\n",
    "while len(done_set) < order_max:\n",
    "    for letter in list(prereq_dict.keys() - (done_set | in_prog_set)): #for letters not in done set or in progress set\n",
    "        if prereq_dict[letter].issubset(done_set): #if requirements contains only letters in done set\n",
    "            ready_set.add(letter) #Add letter to ready set\n",
    "    ready_set_temp = sorted(ready_set) #sort ready set for assignment\n",
    "    ast_cnt = 0 #assignment counter\n",
    "    while any(worker_letter_counter[:,1] == 0) and (len(ready_set) != 0): #Available workers assigned ready letters\n",
    "        top_letter = ready_set_temp[ast_cnt] #assign letter in order\n",
    "        argg = np.argmax(worker_letter_counter[:,1] == 0) #available workers\n",
    "        worker_letter_counter[argg,1] = ord(top_letter) #assign ord letter\n",
    "        worker_letter_counter[argg,2] = letter_time[top_letter] #assign letter time\n",
    "        ready_set.remove(top_letter) #remove letter from ready set\n",
    "        in_prog_set.add(top_letter) #add letter to in progress set\n",
    "        ast_cnt += 1 #add 1 to assignment counter\n",
    "    done_bool = (worker_letter_counter[:,2] == (worker_letter_counter[:,3]+1)) & (worker_letter_counter[:,1] != 0) #Time Bool\n",
    "    if any(done_bool): #if done_bool is not empty\n",
    "        done_list = worker_letter_counter[done_bool,1].tolist() #\n",
    "        done_list = [chr(i) for i in done_list] #convert done list  back to char\n",
    "        done_set |= set(done_list) #add done list to done set\n",
    "        in_prog_set -= set(done_list) #remove done list from in prog set\n",
    "        worker_letter_counter[done_bool,1:] = 0 #reset workers to available\n",
    "    worker_letter_counter[worker_letter_counter[:,1] != 0 ,3] += 1\n",
    "    time += 1\n",
    "print(time)"
   ]
  }
 ],
 "metadata": {
  "kernelspec": {
   "display_name": "Python 3",
   "language": "python",
   "name": "python3"
  },
  "language_info": {
   "codemirror_mode": {
    "name": "ipython",
    "version": 3
   },
   "file_extension": ".py",
   "mimetype": "text/x-python",
   "name": "python",
   "nbconvert_exporter": "python",
   "pygments_lexer": "ipython3",
   "version": "3.7.4"
  }
 },
 "nbformat": 4,
 "nbformat_minor": 2
}
