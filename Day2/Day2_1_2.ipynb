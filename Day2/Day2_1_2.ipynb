{
 "cells": [
  {
   "cell_type": "code",
   "execution_count": 105,
   "metadata": {},
   "outputs": [],
   "source": [
    "#Part 1\n",
    "two_count = 0\n",
    "three_count = 0\n",
    "with open('Day2.txt') as f:\n",
    "    for line in f.readlines():\n",
    "        chardict = {}\n",
    "        for char in line:\n",
    "            if char not in chardict:\n",
    "                chardict[char] = 1\n",
    "            else:\n",
    "                chardict[char] += 1\n",
    "        if 2 in chardict.values():\n",
    "            two_count += 1\n",
    "        if 3 in chardict.values():\n",
    "            three_count += 1"
   ]
  },
  {
   "cell_type": "code",
   "execution_count": 106,
   "metadata": {},
   "outputs": [
    {
     "data": {
      "text/plain": [
       "8118"
      ]
     },
     "execution_count": 106,
     "metadata": {},
     "output_type": "execute_result"
    }
   ],
   "source": [
    "two_count * three_count"
   ]
  },
  {
   "cell_type": "code",
   "execution_count": 107,
   "metadata": {},
   "outputs": [],
   "source": [
    "#Part 2\n",
    "import numpy as np\n",
    "txt = []\n",
    "with open('Day2.txt') as f:\n",
    "    for line in f.readlines():\n",
    "        txt.append([ord(char) for char in line.strip()])\n",
    "    txt = np.array(txt)"
   ]
  },
  {
   "cell_type": "code",
   "execution_count": 127,
   "metadata": {},
   "outputs": [
    {
     "name": "stdout",
     "output_type": "stream",
     "text": [
      "jbbenqtlaxhivmwyscjukztdp\n"
     ]
    }
   ],
   "source": [
    "for i in range(txt.shape[1]):\n",
    "    uniq, cnt = np.unique(np.delete(txt,i,axis=1),axis=0,return_counts=True)\n",
    "    if 2 in cnt:\n",
    "        print(''.join([chr(val) for val in uniq[np.argwhere(cnt==2)[0],:][0]]))\n",
    "        break"
   ]
  }
 ],
 "metadata": {
  "kernelspec": {
   "display_name": "Python 3",
   "language": "python",
   "name": "python3"
  },
  "language_info": {
   "codemirror_mode": {
    "name": "ipython",
    "version": 3
   },
   "file_extension": ".py",
   "mimetype": "text/x-python",
   "name": "python",
   "nbconvert_exporter": "python",
   "pygments_lexer": "ipython3",
   "version": "3.7.4"
  }
 },
 "nbformat": 4,
 "nbformat_minor": 2
}
