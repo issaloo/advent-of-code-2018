{
 "cells": [
  {
   "cell_type": "code",
   "execution_count": 540,
   "metadata": {},
   "outputs": [],
   "source": [
    "import numpy as np\n",
    "import pandas as pd\n",
    "import re"
   ]
  },
  {
   "cell_type": "code",
   "execution_count": 541,
   "metadata": {},
   "outputs": [],
   "source": [
    "record = []\n",
    "with open('Day4.txt') as f:\n",
    "    for line in f.readlines():\n",
    "        record_temp = line.split('] ')\n",
    "        if '#' in record_temp[1]:\n",
    "            notes = int(re.sub('[^0-9]','',record_temp[1]))\n",
    "        else:\n",
    "            notes = record_temp[1].strip()\n",
    "            if notes == 'falls asleep':\n",
    "                notes = 1\n",
    "            elif notes == 'wakes up':\n",
    "                notes = 0\n",
    "        record.append([record_temp[0].strip('['),notes])\n",
    "record_df = pd.DataFrame(record,columns=['Datetime','Notes'])\n",
    "record_df[['Date','Time']] = record_df['Datetime'].str.split(expand=True)\n",
    "record_df[['Year','Month','Day']] = record_df['Date'].str.split('-',expand=True)\n",
    "record_df[['Hour','Minute']] = record_df['Time'].str.split(':',expand=True)\n",
    "record_df['Datetime_New'] = pd.to_datetime(record_df['Month'] + '-' + record_df['Day'] + '-' + '2018' \n",
    "               + ' ' + record_df['Hour'] + ':' + record_df['Minute'])\n",
    "record_df.set_index('Datetime_New',inplace=True)\n",
    "record_df.sort_index(inplace=True)\n",
    "record_df = record_df[['Month','Day','Hour','Minute','Notes']].reset_index(drop=True)\n",
    "record_df[['Month','Day','Hour','Minute']] = record_df[['Month','Day','Hour','Minute']].astype(int)\n",
    "\n",
    "#Match Guard ID Number to Date\n",
    "guard_date = record_df.loc[record_df['Notes'] > 3,['Month','Day','Hour','Notes']]\n",
    "def add1(row):\n",
    "    if row['Hour'] != 0:\n",
    "        row['Day'] +=1\n",
    "    return row['Day']\n",
    "guard_date['Day'] = guard_date.apply(add1,axis=1)\n",
    "\n",
    "uni_date = record_df.loc[record_df['Hour'] == 0,\n",
    "                         ['Month','Day','Hour']].drop_duplicates(['Month','Day']).reset_index(drop=True)\n",
    "min60 = pd.DataFrame(np.transpose(np.vstack((np.zeros(60,dtype=int),np.arange(0,60)))),columns=['Hour','Minute'])\n",
    "table = uni_date.merge(min60,on ='Hour').merge(guard_date[['Month','Day','Notes']],on=['Month','Day'])\n",
    "table.rename(columns={'Notes':'Guard ID'},inplace=True)\n",
    "\n",
    "record_df.loc[record_df['Notes']>3,'Notes'] = 0\n",
    "table = table.merge(record_df.loc[record_df['Hour'] == 0,['Month','Day','Hour','Minute','Notes']],\n",
    "            on=['Month','Day','Hour','Minute'],how='left')\n",
    "table.set_index(['Month','Day'],inplace=True)"
   ]
  },
  {
   "cell_type": "code",
   "execution_count": 554,
   "metadata": {},
   "outputs": [],
   "source": [
    "def spread(array):\n",
    "    #Save first rep. \n",
    "    rep = np.nan\n",
    "    rep1 = np.nan\n",
    "    for i in range(0,60):\n",
    "        if ~np.isnan(array[i]) & np.isnan(rep1):\n",
    "            rep = array[i].copy()\n",
    "            rep1 = rep\n",
    "        elif ~np.isnan(array[i]):\n",
    "            rep = array[i].copy()\n",
    "        elif ~np.isnan(rep):\n",
    "            array[i] = rep\n",
    "    if rep1 == 1:\n",
    "        array[np.isnan(array)] = 0\n",
    "    return array\n",
    "\n",
    "for index in table.index.unique():\n",
    "    table_temp = spread(table.loc[index,'Notes'].to_numpy())\n",
    "    table.loc[index,'Notes'] = table_temp\n",
    "    \n",
    "table_pivot = table.pivot_table(index=['Month','Day','Guard ID'],\n",
    "            columns='Minute',values='Notes',aggfunc=np.sum)\n",
    "guard_max = table_pivot.groupby('Guard ID').sum().sum(axis=1).sort_values(ascending=False).idxmax() #Guard 1901"
   ]
  },
  {
   "cell_type": "code",
   "execution_count": 555,
   "metadata": {},
   "outputs": [
    {
     "data": {
      "text/plain": [
       "77941"
      ]
     },
     "execution_count": 555,
     "metadata": {},
     "output_type": "execute_result"
    }
   ],
   "source": [
    "table_grouped = table_pivot.groupby('Guard ID')\n",
    "minute_max = table_grouped.get_group(1901).sum(axis=0).idxmax()\n",
    "guard_max*minute_max"
   ]
  },
  {
   "cell_type": "code",
   "execution_count": 570,
   "metadata": {},
   "outputs": [
    {
     "data": {
      "text/plain": [
       "35289"
      ]
     },
     "execution_count": 570,
     "metadata": {},
     "output_type": "execute_result"
    }
   ],
   "source": [
    "#Part 2\n",
    "minute_max2 = table_pivot.groupby('Guard ID').sum().max().idxmax()\n",
    "guard_max2 = table_pivot.groupby('Guard ID').sum().idxmax()[27]\n",
    "guard_max2*minute_max2"
   ]
  }
 ],
 "metadata": {
  "kernelspec": {
   "display_name": "Python 3",
   "language": "python",
   "name": "python3"
  },
  "language_info": {
   "codemirror_mode": {
    "name": "ipython",
    "version": 3
   },
   "file_extension": ".py",
   "mimetype": "text/x-python",
   "name": "python",
   "nbconvert_exporter": "python",
   "pygments_lexer": "ipython3",
   "version": "3.7.4"
  }
 },
 "nbformat": 4,
 "nbformat_minor": 2
}
