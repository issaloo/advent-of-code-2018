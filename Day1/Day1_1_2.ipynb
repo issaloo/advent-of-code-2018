{
 "cells": [
  {
   "cell_type": "code",
   "execution_count": 216,
   "metadata": {},
   "outputs": [
    {
     "data": {
      "text/plain": [
       "486"
      ]
     },
     "execution_count": 216,
     "metadata": {},
     "output_type": "execute_result"
    }
   ],
   "source": [
    "import numpy as np\n",
    "import collections\n",
    "num_arr = np.genfromtxt('Day1.txt',dtype=np.int64) \n",
    "np.sum(num_arr)"
   ]
  },
  {
   "cell_type": "code",
   "execution_count": 217,
   "metadata": {},
   "outputs": [],
   "source": [
    "base = np.cumsum(num_arr)\n",
    "rec = set(base)\n",
    "num_len = len(num_arr)\n",
    "adder = base[-1]"
   ]
  },
  {
   "cell_type": "code",
   "execution_count": 218,
   "metadata": {},
   "outputs": [],
   "source": [
    "tiles=0\n",
    "while not(len(rec)%num_len):\n",
    "    tiles +=1\n",
    "    rec2 = set(base + tiles*adder)\n",
    "    rec = rec | rec2"
   ]
  },
  {
   "cell_type": "code",
   "execution_count": 227,
   "metadata": {},
   "outputs": [
    {
     "data": {
      "text/plain": [
       "142920"
      ]
     },
     "execution_count": 227,
     "metadata": {},
     "output_type": "execute_result"
    }
   ],
   "source": [
    "len(np.unique(np.cumsum(np.tile(num_arr,143))))"
   ]
  },
  {
   "cell_type": "code",
   "execution_count": 230,
   "metadata": {},
   "outputs": [
    {
     "name": "stdout",
     "output_type": "stream",
     "text": [
      "69285\n"
     ]
    }
   ],
   "source": [
    "num_arr_cumsum = np.cumsum(np.tile(num_arr,tiles+1))\n",
    "rec = np.cumsum(np.tile(num_arr,tiles)).tolist()\n",
    "i = (tiles)*num_len\n",
    "isdouble = 1\n",
    "while isdouble:\n",
    "    if num_arr_cumsum[i] in rec:\n",
    "        isdouble = 0\n",
    "        print(num_arr_cumsum[i])\n",
    "    rec.append(num_arr_cumsum[i])\n",
    "    i+=1"
   ]
  }
 ],
 "metadata": {
  "kernelspec": {
   "display_name": "Python 3",
   "language": "python",
   "name": "python3"
  },
  "language_info": {
   "codemirror_mode": {
    "name": "ipython",
    "version": 3
   },
   "file_extension": ".py",
   "mimetype": "text/x-python",
   "name": "python",
   "nbconvert_exporter": "python",
   "pygments_lexer": "ipython3",
   "version": "3.7.4"
  }
 },
 "nbformat": 4,
 "nbformat_minor": 2
}
