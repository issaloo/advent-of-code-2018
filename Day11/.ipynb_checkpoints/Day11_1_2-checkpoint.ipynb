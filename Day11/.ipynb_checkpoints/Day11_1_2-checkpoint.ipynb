{
 "cells": [
  {
   "cell_type": "code",
   "execution_count": 1,
   "metadata": {},
   "outputs": [],
   "source": [
    "#300x300 grid of fuel cell\n",
    "#X,Y notation where top left cell is 1,1 and top right cell is 300,1\n",
    "#You can select any 3x3 square of fuel cell. Choose 3x3 square with largest total power\n",
    "\n",
    "#Fuel Cell Rack ID = X coordinate + 10\n",
    "#Power level of Rack ID * Y coordinate\n",
    "#Increase power level by value of the grid serial number\n",
    "#Set power level to itself multiplied by rack ID\n",
    "#Keep only hundreds digit of the power level (12345 becomes 3)\n",
    "#Subtract 4 from the power level\n",
    "\n",
    "#Example for X,Y 3,5 and Grid with serial 8\n",
    "#Rack ID is 3 + 10 = 13\n",
    "#Power level starts at 13 * 5 = 65\n",
    "#Add serial number 65 + 8 =73\n",
    "#Multiply by rack ID 73 * 13 = 949\n",
    "#Subtract 5 produces 9-5 = 4"
   ]
  },
  {
   "cell_type": "code",
   "execution_count": 5,
   "metadata": {},
   "outputs": [],
   "source": [
    "import numpy as np\n",
    "\n",
    "#Set Up Grid\n",
    "grid_x_size = 300\n",
    "grid_y_size = 300\n",
    "\n",
    "#Create X Coordinate Array\n",
    "grid_y = np.array(grid_y_size*[range(1,grid_x_size+1)]).transpose()\n",
    "grid_x = np.array(grid_x_size*[range(1,grid_y_size+1)])"
   ]
  },
  {
   "cell_type": "code",
   "execution_count": 61,
   "metadata": {},
   "outputs": [
    {
     "name": "stdout",
     "output_type": "stream",
     "text": [
      "x: 235\n",
      "y: 16\n"
     ]
    }
   ],
   "source": [
    "#Input Grid Serial Number\n",
    "gsn = 8141\n",
    "\n",
    "#Step 1: Calculate rack_id\n",
    "rack_id = grid_x + 10\n",
    "#Step 2: Calculate starting power level\n",
    "power_level_start = rack_id * grid_y\n",
    "#Step 3: Add serial number\n",
    "power_level = power_level_start + gsn\n",
    "#Step 4: Multiple by rack ID\n",
    "power_level *= rack_id\n",
    "#Step 5: Get Hundreds Digit\n",
    "def func(x):\n",
    "    if x < 100:\n",
    "        x = 0\n",
    "    else:\n",
    "        x = int(str(x)[-3])\n",
    "    return x\n",
    "func_vec = np.vectorize(func)\n",
    "power_level = func_vec(power_level)\n",
    "#Step 6: Subtract 5\n",
    "power_level -= 5\n",
    "\n",
    "#Sum power levels in 3 x 3 matrix\n",
    "view = np.lib.stride_tricks.as_strided(power_level, shape=(3,3,power_level.shape[0]-2,power_level.shape[1]-2),\n",
    "                                     strides=power_level.strides * 2)\n",
    "power_level_sum = view.sum(axis=(0,1))\n",
    "\n",
    "#Find max index\n",
    "indices= np.where(power_level_sum == power_level_sum.max())\n",
    "\n",
    "print('x: ' + str(indices[1][0]+1))\n",
    "print('y: ' + str(indices[0][0]+1))"
   ]
  },
  {
   "cell_type": "code",
   "execution_count": 62,
   "metadata": {},
   "outputs": [],
   "source": [
    "#Part 2\n",
    "#Input Grid Serial Number\n",
    "gsn = 8141\n",
    "\n",
    "#Step 1: Calculate rack_id\n",
    "rack_id = grid_x + 10\n",
    "#Step 2: Calculate starting power level\n",
    "power_level_start = rack_id * grid_y\n",
    "#Step 3: Add serial number\n",
    "power_level = power_level_start + gsn\n",
    "#Step 4: Multiple by rack ID\n",
    "power_level *= rack_id\n",
    "#Step 5: Get Hundreds Digit\n",
    "def func(x):\n",
    "    if x < 100:\n",
    "        x = 0\n",
    "    else:\n",
    "        x = int(str(x)[-3])\n",
    "    return x\n",
    "func_vec = np.vectorize(func)\n",
    "power_level = func_vec(power_level)\n",
    "#Step 6: Subtract 5\n",
    "power_level -= 5"
   ]
  },
  {
   "cell_type": "code",
   "execution_count": 63,
   "metadata": {},
   "outputs": [
    {
     "ename": "KeyboardInterrupt",
     "evalue": "",
     "output_type": "error",
     "traceback": [
      "\u001b[1;31m---------------------------------------------------------------------------\u001b[0m",
      "\u001b[1;31mKeyboardInterrupt\u001b[0m                         Traceback (most recent call last)",
      "\u001b[1;32m<ipython-input-63-d64a098f4054>\u001b[0m in \u001b[0;36m<module>\u001b[1;34m\u001b[0m\n\u001b[0;32m      3\u001b[0m     view = np.lib.stride_tricks.as_strided(power_level, shape=(i,i,power_level.shape[0]-(i-1),power_level.shape[1]-(i-1)),\n\u001b[0;32m      4\u001b[0m                                          strides=power_level.strides * 2)\n\u001b[1;32m----> 5\u001b[1;33m     \u001b[0mpower_level_sum\u001b[0m \u001b[1;33m=\u001b[0m \u001b[0mview\u001b[0m\u001b[1;33m.\u001b[0m\u001b[0msum\u001b[0m\u001b[1;33m(\u001b[0m\u001b[0maxis\u001b[0m\u001b[1;33m=\u001b[0m\u001b[1;33m(\u001b[0m\u001b[1;36m0\u001b[0m\u001b[1;33m,\u001b[0m\u001b[1;36m1\u001b[0m\u001b[1;33m)\u001b[0m\u001b[1;33m)\u001b[0m\u001b[1;33m\u001b[0m\u001b[1;33m\u001b[0m\u001b[0m\n\u001b[0m\u001b[0;32m      6\u001b[0m     \u001b[0mmax_temp\u001b[0m \u001b[1;33m=\u001b[0m \u001b[0mnp\u001b[0m\u001b[1;33m.\u001b[0m\u001b[0mmax\u001b[0m\u001b[1;33m(\u001b[0m\u001b[0mpower_level_sum\u001b[0m\u001b[1;33m)\u001b[0m\u001b[1;33m\u001b[0m\u001b[1;33m\u001b[0m\u001b[0m\n\u001b[0;32m      7\u001b[0m     \u001b[1;32mif\u001b[0m \u001b[0mmax_temp\u001b[0m \u001b[1;33m>\u001b[0m \u001b[0mmax_all\u001b[0m\u001b[1;33m:\u001b[0m\u001b[1;33m\u001b[0m\u001b[1;33m\u001b[0m\u001b[0m\n",
      "\u001b[1;32m~\\AppData\\Roaming\\Python\\Python37\\site-packages\\numpy\\core\\_methods.py\u001b[0m in \u001b[0;36m_sum\u001b[1;34m(a, axis, dtype, out, keepdims, initial, where)\u001b[0m\n\u001b[0;32m     45\u001b[0m def _sum(a, axis=None, dtype=None, out=None, keepdims=False,\n\u001b[0;32m     46\u001b[0m          initial=_NoValue, where=True):\n\u001b[1;32m---> 47\u001b[1;33m     \u001b[1;32mreturn\u001b[0m \u001b[0mumr_sum\u001b[0m\u001b[1;33m(\u001b[0m\u001b[0ma\u001b[0m\u001b[1;33m,\u001b[0m \u001b[0maxis\u001b[0m\u001b[1;33m,\u001b[0m \u001b[0mdtype\u001b[0m\u001b[1;33m,\u001b[0m \u001b[0mout\u001b[0m\u001b[1;33m,\u001b[0m \u001b[0mkeepdims\u001b[0m\u001b[1;33m,\u001b[0m \u001b[0minitial\u001b[0m\u001b[1;33m,\u001b[0m \u001b[0mwhere\u001b[0m\u001b[1;33m)\u001b[0m\u001b[1;33m\u001b[0m\u001b[1;33m\u001b[0m\u001b[0m\n\u001b[0m\u001b[0;32m     48\u001b[0m \u001b[1;33m\u001b[0m\u001b[0m\n\u001b[0;32m     49\u001b[0m def _prod(a, axis=None, dtype=None, out=None, keepdims=False,\n",
      "\u001b[1;31mKeyboardInterrupt\u001b[0m: "
     ]
    }
   ],
   "source": [
    "max_all = 0\n",
    "for i in range(1,301):\n",
    "    view = np.lib.stride_tricks.as_strided(power_level, shape=(i,i,power_level.shape[0]-(i-1),power_level.shape[1]-(i-1)),\n",
    "                                         strides=power_level.strides * 2)\n",
    "    power_level_sum = view.sum(axis=(0,1))\n",
    "    max_temp = np.max(power_level_sum)\n",
    "    if max_temp > max_all:\n",
    "        max_all = max_temp\n",
    "        max_square = i"
   ]
  },
  {
   "cell_type": "code",
   "execution_count": null,
   "metadata": {},
   "outputs": [],
   "source": [
    "view = np.lib.stride_tricks.as_strided(power_level, shape=(max_square,max_square,power_level.shape[0]-(max_square-1),power_level.shape[1]-(max_square-1)),\n",
    "                                     strides=power_level.strides * 2)\n",
    "power_level_sum = view.sum(axis=(0,1))"
   ]
  },
  {
   "cell_type": "code",
   "execution_count": null,
   "metadata": {},
   "outputs": [],
   "source": [
    "power_level_sum.shape\n",
    "indices= np.where(power_level_sum == power_level_sum.max())\n",
    "\n",
    "print('x: ' + str(indices[1][0]+1))\n",
    "print('y: ' + str(indices[0][0]+1))\n",
    "print('size: ' + str(max_square))"
   ]
  }
 ],
 "metadata": {
  "kernelspec": {
   "display_name": "Python 3",
   "language": "python",
   "name": "python3"
  },
  "language_info": {
   "codemirror_mode": {
    "name": "ipython",
    "version": 3
   },
   "file_extension": ".py",
   "mimetype": "text/x-python",
   "name": "python",
   "nbconvert_exporter": "python",
   "pygments_lexer": "ipython3",
   "version": "3.7.4"
  }
 },
 "nbformat": 4,
 "nbformat_minor": 2
}
