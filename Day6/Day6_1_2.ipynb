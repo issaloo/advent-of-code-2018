{
 "cells": [
  {
   "cell_type": "code",
   "execution_count": 48,
   "metadata": {},
   "outputs": [],
   "source": [
    "import numpy as np\n",
    "with open('Day6.txt') as f:\n",
    "    coord = []\n",
    "    for line in f.readlines():\n",
    "        line = line.strip()\n",
    "        coord.append([int(i) for i in line.split(', ')])\n",
    "    coord = np.asarray(coord)\n",
    "l, w = coord.max(axis=0)"
   ]
  },
  {
   "cell_type": "code",
   "execution_count": 49,
   "metadata": {},
   "outputs": [],
   "source": [
    "x = np.tile(np.arange(1,w+1),(l,1))\n",
    "y = np.transpose(np.tile(np.arange(1,l+1),(w,1)))"
   ]
  },
  {
   "cell_type": "code",
   "execution_count": 56,
   "metadata": {},
   "outputs": [],
   "source": [
    "id_array = np.ones((l,w))\n",
    "dist_array = np.abs(y - coord[0,0]) + np.abs(x-coord[0,1])  \n",
    "for i in range(1,len(coord)):\n",
    "    dist_array_temp = np.abs(y-coord[i,0]) + np.abs(x-coord[i,1])\n",
    "    id_array[dist_array > dist_array_temp] = i+1\n",
    "    id_array[dist_array == dist_array_temp] = 0\n",
    "    dist_array[dist_array > dist_array_temp] = dist_array_temp[dist_array > dist_array_temp]"
   ]
  },
  {
   "cell_type": "code",
   "execution_count": 73,
   "metadata": {},
   "outputs": [],
   "source": [
    "border_id = np.unique(np.concatenate((id_array[0,:],id_array[-1,:],id_array[:,0],id_array[:,-1])))\n",
    "id_array[np.isin(id_array,border_id)] = 0"
   ]
  },
  {
   "cell_type": "code",
   "execution_count": 86,
   "metadata": {},
   "outputs": [
    {
     "data": {
      "text/plain": [
       "3890"
      ]
     },
     "execution_count": 86,
     "metadata": {},
     "output_type": "execute_result"
    }
   ],
   "source": [
    "_,counts = np.unique(id_array,return_counts=True)\n",
    "counts.sort()\n",
    "counts[-2]"
   ]
  },
  {
   "cell_type": "code",
   "execution_count": 90,
   "metadata": {},
   "outputs": [
    {
     "data": {
      "text/plain": [
       "40284"
      ]
     },
     "execution_count": 90,
     "metadata": {},
     "output_type": "execute_result"
    }
   ],
   "source": [
    "#Part 2\n",
    "dist_array = np.zeros((l,w))\n",
    "for i in range(len(coord)):\n",
    "    dist_array_temp = np.abs(y-coord[i,0]) + np.abs(x-coord[i,1])\n",
    "    dist_array += dist_array_temp\n",
    "np.sum(dist_array < 10000)"
   ]
  }
 ],
 "metadata": {
  "kernelspec": {
   "display_name": "Python 3",
   "language": "python",
   "name": "python3"
  },
  "language_info": {
   "codemirror_mode": {
    "name": "ipython",
    "version": 3
   },
   "file_extension": ".py",
   "mimetype": "text/x-python",
   "name": "python",
   "nbconvert_exporter": "python",
   "pygments_lexer": "ipython3",
   "version": "3.7.4"
  }
 },
 "nbformat": 4,
 "nbformat_minor": 2
}
