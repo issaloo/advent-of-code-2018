{
 "cells": [
  {
   "cell_type": "code",
   "execution_count": 66,
   "metadata": {},
   "outputs": [],
   "source": [
    "import re\n",
    "import string\n",
    "with open('Day5.txt') as f:\n",
    "    poly = f.readlines()[0].strip()"
   ]
  },
  {
   "cell_type": "code",
   "execution_count": 67,
   "metadata": {},
   "outputs": [
    {
     "data": {
      "text/plain": [
       "10774"
      ]
     },
     "execution_count": 67,
     "metadata": {},
     "output_type": "execute_result"
    }
   ],
   "source": [
    "#Create replacement list\n",
    "lower = list(string.ascii_lowercase)\n",
    "upper = list(string.ascii_uppercase)\n",
    "\n",
    "list1 = [\"\".join(i) for i in zip(lower,upper)]\n",
    "list2 = [\"\".join(i) for i in zip(upper,lower)]\n",
    "rep_string = '|'.join(list1 + list2)\n",
    "\n",
    "#While Loop\n",
    "rep_count = 1\n",
    "while rep_count > 0:\n",
    "    poly, rep_count = re.subn(rep_string,'',poly)\n",
    "len(poly)"
   ]
  },
  {
   "cell_type": "code",
   "execution_count": 71,
   "metadata": {},
   "outputs": [],
   "source": [
    "#Part 2\n",
    "def reactor(poly,rep_string):\n",
    "    rep_count=1\n",
    "    while rep_count > 0:\n",
    "        poly, rep_count = re.subn(rep_string,'',poly)\n",
    "    return len(poly)\n",
    "\n",
    "list3 = [\"|\".join(i) for i in zip(lower,upper)]\n",
    "\n",
    "#For Loop\n",
    "min_string_len = 50000\n",
    "for rep_string1 in list3:\n",
    "    poly_sub = re.sub(rep_string1,'',poly)\n",
    "    string_len = reactor(poly_sub,rep_string)\n",
    "    if string_len < min_string_len:\n",
    "        min_string_len = string_len\n",
    "min_string_len"
   ]
  }
 ],
 "metadata": {
  "kernelspec": {
   "display_name": "Python 3",
   "language": "python",
   "name": "python3"
  },
  "language_info": {
   "codemirror_mode": {
    "name": "ipython",
    "version": 3
   },
   "file_extension": ".py",
   "mimetype": "text/x-python",
   "name": "python",
   "nbconvert_exporter": "python",
   "pygments_lexer": "ipython3",
   "version": "3.7.4"
  }
 },
 "nbformat": 4,
 "nbformat_minor": 2
}
